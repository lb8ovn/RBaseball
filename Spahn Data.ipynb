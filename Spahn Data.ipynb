{
 "cells": [
  {
   "cell_type": "code",
   "execution_count": 1,
   "id": "b9044eb9",
   "metadata": {},
   "outputs": [
    {
     "name": "stderr",
     "output_type": "stream",
     "text": [
      "\n",
      "Attaching package: 'dplyr'\n",
      "\n",
      "\n",
      "The following objects are masked from 'package:stats':\n",
      "\n",
      "    filter, lag\n",
      "\n",
      "\n",
      "The following objects are masked from 'package:base':\n",
      "\n",
      "    intersect, setdiff, setequal, union\n",
      "\n",
      "\n",
      "\u001b[1mRows: \u001b[22m\u001b[34m21\u001b[39m \u001b[1mColumns: \u001b[22m\u001b[34m34\u001b[39m\n",
      "\u001b[36m──\u001b[39m \u001b[1mColumn specification\u001b[22m \u001b[36m────────────────────────────────────────────────────────────────────────────────────────────────\u001b[39m\n",
      "\u001b[1mDelimiter:\u001b[22m \",\"\n",
      "\u001b[31mchr\u001b[39m  (3): Tm, Lg, Awards\n",
      "\u001b[32mdbl\u001b[39m (31): Year, Age, W, L, W.L, ERA, G, GS, GF, CG, SHO, SV, IP, H, R, ER, H...\n",
      "\n",
      "\u001b[36mℹ\u001b[39m Use `spec()` to retrieve the full column specification for this data.\n",
      "\u001b[36mℹ\u001b[39m Specify the column types or set `show_col_types = FALSE` to quiet this message.\n"
     ]
    },
    {
     "data": {
      "text/html": [
       "<table class=\"dataframe\">\n",
       "<caption>A tibble: 3 × 10</caption>\n",
       "<thead>\n",
       "\t<tr><th scope=col>Year</th><th scope=col>Age</th><th scope=col>Tm</th><th scope=col>Lg</th><th scope=col>W</th><th scope=col>L</th><th scope=col>W.L</th><th scope=col>ERA</th><th scope=col>G</th><th scope=col>GS</th></tr>\n",
       "\t<tr><th scope=col>&lt;dbl&gt;</th><th scope=col>&lt;dbl&gt;</th><th scope=col>&lt;chr&gt;</th><th scope=col>&lt;chr&gt;</th><th scope=col>&lt;dbl&gt;</th><th scope=col>&lt;dbl&gt;</th><th scope=col>&lt;dbl&gt;</th><th scope=col>&lt;dbl&gt;</th><th scope=col>&lt;dbl&gt;</th><th scope=col>&lt;dbl&gt;</th></tr>\n",
       "</thead>\n",
       "<tbody>\n",
       "\t<tr><td>1942</td><td>21</td><td>BSN</td><td>NL</td><td> 0</td><td> 0</td><td>   NA</td><td>5.74</td><td> 4</td><td> 2</td></tr>\n",
       "\t<tr><td>1946</td><td>25</td><td>BSN</td><td>NL</td><td> 8</td><td> 5</td><td>0.615</td><td>2.94</td><td>24</td><td>16</td></tr>\n",
       "\t<tr><td>1947</td><td>26</td><td>BSN</td><td>NL</td><td>21</td><td>10</td><td>0.677</td><td>2.33</td><td>40</td><td>35</td></tr>\n",
       "</tbody>\n",
       "</table>\n"
      ],
      "text/latex": [
       "A tibble: 3 × 10\n",
       "\\begin{tabular}{llllllllll}\n",
       " Year & Age & Tm & Lg & W & L & W.L & ERA & G & GS\\\\\n",
       " <dbl> & <dbl> & <chr> & <chr> & <dbl> & <dbl> & <dbl> & <dbl> & <dbl> & <dbl>\\\\\n",
       "\\hline\n",
       "\t 1942 & 21 & BSN & NL &  0 &  0 &    NA & 5.74 &  4 &  2\\\\\n",
       "\t 1946 & 25 & BSN & NL &  8 &  5 & 0.615 & 2.94 & 24 & 16\\\\\n",
       "\t 1947 & 26 & BSN & NL & 21 & 10 & 0.677 & 2.33 & 40 & 35\\\\\n",
       "\\end{tabular}\n"
      ],
      "text/markdown": [
       "\n",
       "A tibble: 3 × 10\n",
       "\n",
       "| Year &lt;dbl&gt; | Age &lt;dbl&gt; | Tm &lt;chr&gt; | Lg &lt;chr&gt; | W &lt;dbl&gt; | L &lt;dbl&gt; | W.L &lt;dbl&gt; | ERA &lt;dbl&gt; | G &lt;dbl&gt; | GS &lt;dbl&gt; |\n",
       "|---|---|---|---|---|---|---|---|---|---|\n",
       "| 1942 | 21 | BSN | NL |  0 |  0 |    NA | 5.74 |  4 |  2 |\n",
       "| 1946 | 25 | BSN | NL |  8 |  5 | 0.615 | 2.94 | 24 | 16 |\n",
       "| 1947 | 26 | BSN | NL | 21 | 10 | 0.677 | 2.33 | 40 | 35 |\n",
       "\n"
      ],
      "text/plain": [
       "  Year Age Tm  Lg W  L  W.L   ERA  G  GS\n",
       "1 1942 21  BSN NL  0  0    NA 5.74  4  2\n",
       "2 1946 25  BSN NL  8  5 0.615 2.94 24 16\n",
       "3 1947 26  BSN NL 21 10 0.677 2.33 40 35"
      ]
     },
     "metadata": {},
     "output_type": "display_data"
    }
   ],
   "source": [
    "library(\"readr\")\n",
    "library(\"dplyr\")\n",
    "spahn <- read_csv(\"data/spahn.csv\")\n",
    "spahn %>% slice(1:3) %>% select(1:10)"
   ]
  },
  {
   "cell_type": "code",
   "execution_count": 3,
   "id": "3e9e7ff4",
   "metadata": {},
   "outputs": [
    {
     "data": {
      "text/html": [
       "<table class=\"dataframe\">\n",
       "<caption>A tibble: 10 × 4</caption>\n",
       "<thead>\n",
       "\t<tr><th scope=col>Age</th><th scope=col>W</th><th scope=col>L</th><th scope=col>ERA</th></tr>\n",
       "\t<tr><th scope=col>&lt;dbl&gt;</th><th scope=col>&lt;dbl&gt;</th><th scope=col>&lt;dbl&gt;</th><th scope=col>&lt;dbl&gt;</th></tr>\n",
       "</thead>\n",
       "<tbody>\n",
       "\t<tr><td>21</td><td> 0</td><td> 0</td><td>5.74</td></tr>\n",
       "\t<tr><td>25</td><td> 8</td><td> 5</td><td>2.94</td></tr>\n",
       "\t<tr><td>26</td><td>21</td><td>10</td><td>2.33</td></tr>\n",
       "\t<tr><td>27</td><td>15</td><td>12</td><td>3.71</td></tr>\n",
       "\t<tr><td>28</td><td>21</td><td>14</td><td>3.07</td></tr>\n",
       "\t<tr><td>29</td><td>21</td><td>17</td><td>3.16</td></tr>\n",
       "\t<tr><td>30</td><td>22</td><td>14</td><td>2.98</td></tr>\n",
       "\t<tr><td>31</td><td>14</td><td>19</td><td>2.98</td></tr>\n",
       "\t<tr><td>32</td><td>23</td><td> 7</td><td>2.10</td></tr>\n",
       "\t<tr><td>33</td><td>21</td><td>12</td><td>3.14</td></tr>\n",
       "</tbody>\n",
       "</table>\n"
      ],
      "text/latex": [
       "A tibble: 10 × 4\n",
       "\\begin{tabular}{llll}\n",
       " Age & W & L & ERA\\\\\n",
       " <dbl> & <dbl> & <dbl> & <dbl>\\\\\n",
       "\\hline\n",
       "\t 21 &  0 &  0 & 5.74\\\\\n",
       "\t 25 &  8 &  5 & 2.94\\\\\n",
       "\t 26 & 21 & 10 & 2.33\\\\\n",
       "\t 27 & 15 & 12 & 3.71\\\\\n",
       "\t 28 & 21 & 14 & 3.07\\\\\n",
       "\t 29 & 21 & 17 & 3.16\\\\\n",
       "\t 30 & 22 & 14 & 2.98\\\\\n",
       "\t 31 & 14 & 19 & 2.98\\\\\n",
       "\t 32 & 23 &  7 & 2.10\\\\\n",
       "\t 33 & 21 & 12 & 3.14\\\\\n",
       "\\end{tabular}\n"
      ],
      "text/markdown": [
       "\n",
       "A tibble: 10 × 4\n",
       "\n",
       "| Age &lt;dbl&gt; | W &lt;dbl&gt; | L &lt;dbl&gt; | ERA &lt;dbl&gt; |\n",
       "|---|---|---|---|\n",
       "| 21 |  0 |  0 | 5.74 |\n",
       "| 25 |  8 |  5 | 2.94 |\n",
       "| 26 | 21 | 10 | 2.33 |\n",
       "| 27 | 15 | 12 | 3.71 |\n",
       "| 28 | 21 | 14 | 3.07 |\n",
       "| 29 | 21 | 17 | 3.16 |\n",
       "| 30 | 22 | 14 | 2.98 |\n",
       "| 31 | 14 | 19 | 2.98 |\n",
       "| 32 | 23 |  7 | 2.10 |\n",
       "| 33 | 21 | 12 | 3.14 |\n",
       "\n"
      ],
      "text/plain": [
       "   Age W  L  ERA \n",
       "1  21   0  0 5.74\n",
       "2  25   8  5 2.94\n",
       "3  26  21 10 2.33\n",
       "4  27  15 12 3.71\n",
       "5  28  21 14 3.07\n",
       "6  29  21 17 3.16\n",
       "7  30  22 14 2.98\n",
       "8  31  14 19 2.98\n",
       "9  32  23  7 2.10\n",
       "10 33  21 12 3.14"
      ]
     },
     "metadata": {},
     "output_type": "display_data"
    }
   ],
   "source": [
    "spahn %>% slice(1:10) %>% select(Age, W, L, ERA)"
   ]
  },
  {
   "cell_type": "code",
   "execution_count": 5,
   "id": "3c5410af",
   "metadata": {},
   "outputs": [
    {
     "data": {
      "text/html": [
       "<table class=\"dataframe\">\n",
       "<caption>A tibble: 1 × 1</caption>\n",
       "<thead>\n",
       "\t<tr><th scope=col>Age</th></tr>\n",
       "\t<tr><th scope=col>&lt;dbl&gt;</th></tr>\n",
       "</thead>\n",
       "<tbody>\n",
       "\t<tr><td>32</td></tr>\n",
       "</tbody>\n",
       "</table>\n"
      ],
      "text/latex": [
       "A tibble: 1 × 1\n",
       "\\begin{tabular}{l}\n",
       " Age\\\\\n",
       " <dbl>\\\\\n",
       "\\hline\n",
       "\t 32\\\\\n",
       "\\end{tabular}\n"
      ],
      "text/markdown": [
       "\n",
       "A tibble: 1 × 1\n",
       "\n",
       "| Age &lt;dbl&gt; |\n",
       "|---|\n",
       "| 32 |\n",
       "\n"
      ],
      "text/plain": [
       "  Age\n",
       "1 32 "
      ]
     },
     "metadata": {},
     "output_type": "display_data"
    }
   ],
   "source": [
    "spahn %>% filter(ERA==min(ERA)) %>% select(Age)"
   ]
  },
  {
   "cell_type": "code",
   "execution_count": 6,
   "id": "5db2bcb5",
   "metadata": {},
   "outputs": [],
   "source": [
    "spahn %>%\n",
    "    mutate(FIP = (13*HR+3*BB-2*SO)/IP) -> spahn"
   ]
  },
  {
   "cell_type": "code",
   "execution_count": 7,
   "id": "d4b038c8",
   "metadata": {},
   "outputs": [
    {
     "data": {
      "text/html": [
       "<table class=\"dataframe\">\n",
       "<caption>A tibble: 21 × 35</caption>\n",
       "<thead>\n",
       "\t<tr><th scope=col>Year</th><th scope=col>Age</th><th scope=col>Tm</th><th scope=col>Lg</th><th scope=col>W</th><th scope=col>L</th><th scope=col>W.L</th><th scope=col>ERA</th><th scope=col>G</th><th scope=col>GS</th><th scope=col>⋯</th><th scope=col>BF</th><th scope=col>ERA+</th><th scope=col>WHIP</th><th scope=col>H/9</th><th scope=col>HR/9</th><th scope=col>BB/9</th><th scope=col>SO/9</th><th scope=col>SO/BB</th><th scope=col>Awards</th><th scope=col>FIP</th></tr>\n",
       "\t<tr><th scope=col>&lt;dbl&gt;</th><th scope=col>&lt;dbl&gt;</th><th scope=col>&lt;chr&gt;</th><th scope=col>&lt;chr&gt;</th><th scope=col>&lt;dbl&gt;</th><th scope=col>&lt;dbl&gt;</th><th scope=col>&lt;dbl&gt;</th><th scope=col>&lt;dbl&gt;</th><th scope=col>&lt;dbl&gt;</th><th scope=col>&lt;dbl&gt;</th><th scope=col>⋯</th><th scope=col>&lt;dbl&gt;</th><th scope=col>&lt;dbl&gt;</th><th scope=col>&lt;dbl&gt;</th><th scope=col>&lt;dbl&gt;</th><th scope=col>&lt;dbl&gt;</th><th scope=col>&lt;dbl&gt;</th><th scope=col>&lt;dbl&gt;</th><th scope=col>&lt;dbl&gt;</th><th scope=col>&lt;chr&gt;</th><th scope=col>&lt;dbl&gt;</th></tr>\n",
       "</thead>\n",
       "<tbody>\n",
       "\t<tr><td>1942</td><td>21</td><td>BSN</td><td>NL</td><td> 0</td><td> 0</td><td>   NA</td><td>5.74</td><td> 4</td><td> 2</td><td>⋯</td><td>  79</td><td> 59</td><td>2.298</td><td>14.4</td><td>0.0</td><td>6.3</td><td>4.0</td><td>0.64</td><td>NA           </td><td>1.2500000</td></tr>\n",
       "\t<tr><td>1946</td><td>25</td><td>BSN</td><td>NL</td><td> 8</td><td> 5</td><td>0.615</td><td>2.94</td><td>24</td><td>16</td><td>⋯</td><td> 514</td><td>118</td><td>1.138</td><td> 7.7</td><td>0.4</td><td>2.6</td><td>4.8</td><td>1.86</td><td>NA           </td><td>0.4153355</td></tr>\n",
       "\t<tr><td>1947</td><td>26</td><td>BSN</td><td>NL</td><td>21</td><td>10</td><td>0.677</td><td>2.33</td><td>40</td><td>35</td><td>⋯</td><td>1174</td><td>170</td><td>1.136</td><td> 7.6</td><td>0.5</td><td>2.6</td><td>3.8</td><td>1.46</td><td>ASMVP-15     </td><td>0.6950207</td></tr>\n",
       "\t<tr><td>1948</td><td>27</td><td>BSN</td><td>NL</td><td>15</td><td>12</td><td>0.556</td><td>3.71</td><td>36</td><td>35</td><td>⋯</td><td>1064</td><td>105</td><td>1.222</td><td> 8.3</td><td>0.7</td><td>2.7</td><td>4.0</td><td>1.48</td><td>MVP-14       </td><td>0.9727626</td></tr>\n",
       "\t<tr><td>1949</td><td>28</td><td>BSN</td><td>NL</td><td>21</td><td>14</td><td>0.600</td><td>3.07</td><td>38</td><td>38</td><td>⋯</td><td>1258</td><td>124</td><td>1.221</td><td> 8.4</td><td>0.8</td><td>2.6</td><td>4.5</td><td>1.76</td><td>ASMVP-7      </td><td>1.0162198</td></tr>\n",
       "\t<tr><td>1950</td><td>29</td><td>BSN</td><td>NL</td><td>21</td><td>17</td><td>0.553</td><td>3.16</td><td>41</td><td>39</td><td>⋯</td><td>1217</td><td>122</td><td>1.225</td><td> 7.6</td><td>0.7</td><td>3.4</td><td>5.9</td><td>1.72</td><td>ASMVP-18     </td><td>0.8088737</td></tr>\n",
       "\t<tr><td>1951</td><td>30</td><td>BSN</td><td>NL</td><td>22</td><td>14</td><td>0.611</td><td>2.98</td><td>39</td><td>36</td><td>⋯</td><td>1289</td><td>124</td><td>1.246</td><td> 8.1</td><td>0.6</td><td>3.2</td><td>4.8</td><td>1.50</td><td>ASMVP-11     </td><td>0.8349452</td></tr>\n",
       "\t<tr><td>1952</td><td>31</td><td>BSN</td><td>NL</td><td>14</td><td>19</td><td>0.424</td><td>2.98</td><td>40</td><td>35</td><td>⋯</td><td>1190</td><td>122</td><td>1.159</td><td> 8.2</td><td>0.6</td><td>2.3</td><td>5.7</td><td>2.51</td><td>ASMVP-23     </td><td>0.3448276</td></tr>\n",
       "\t<tr><td>1953</td><td>32</td><td>MLN</td><td>NL</td><td>23</td><td> 7</td><td>0.767</td><td>2.10</td><td>35</td><td>32</td><td>⋯</td><td>1055</td><td>188</td><td>1.058</td><td> 7.1</td><td>0.5</td><td>2.4</td><td>5.0</td><td>2.11</td><td>ASMVP-5      </td><td>0.3619910</td></tr>\n",
       "\t<tr><td>1954</td><td>33</td><td>MLN</td><td>NL</td><td>21</td><td>12</td><td>0.636</td><td>3.14</td><td>39</td><td>34</td><td>⋯</td><td>1175</td><td>119</td><td>1.228</td><td> 8.3</td><td>0.8</td><td>2.7</td><td>4.3</td><td>1.58</td><td>ASMVP-11     </td><td>1.0526316</td></tr>\n",
       "\t<tr><td>1955</td><td>34</td><td>MLN</td><td>NL</td><td>17</td><td>14</td><td>0.548</td><td>3.26</td><td>39</td><td>32</td><td>⋯</td><td>1025</td><td>115</td><td>1.278</td><td> 9.1</td><td>0.9</td><td>2.4</td><td>4.0</td><td>1.69</td><td>NA           </td><td>1.2234910</td></tr>\n",
       "\t<tr><td>1956</td><td>35</td><td>MLN</td><td>NL</td><td>20</td><td>11</td><td>0.645</td><td>2.78</td><td>39</td><td>35</td><td>⋯</td><td>1113</td><td>125</td><td>1.070</td><td> 8.0</td><td>0.8</td><td>1.7</td><td>4.1</td><td>2.46</td><td>ASCYA-3MVP-4 </td><td>0.8004269</td></tr>\n",
       "\t<tr><td>1957</td><td>36</td><td>MLN</td><td>NL</td><td>21</td><td>11</td><td>0.656</td><td>2.69</td><td>39</td><td>35</td><td>⋯</td><td>1111</td><td>130</td><td>1.177</td><td> 8.0</td><td>0.8</td><td>2.6</td><td>3.7</td><td>1.42</td><td>ASCYA-1MVP-5 </td><td>1.1476015</td></tr>\n",
       "\t<tr><td>1958</td><td>37</td><td>MLN</td><td>NL</td><td>22</td><td>11</td><td>0.667</td><td>3.07</td><td>38</td><td>36</td><td>⋯</td><td>1176</td><td>116</td><td>1.148</td><td> 8.0</td><td>0.9</td><td>2.4</td><td>4.7</td><td>1.97</td><td>ASCYA-2MVP-5 </td><td>1.0517241</td></tr>\n",
       "\t<tr><td>1959</td><td>38</td><td>MLN</td><td>NL</td><td>21</td><td>15</td><td>0.583</td><td>2.96</td><td>40</td><td>36</td><td>⋯</td><td>1203</td><td>119</td><td>1.205</td><td> 8.7</td><td>0.6</td><td>2.2</td><td>4.4</td><td>2.04</td><td>ASMVP-19     </td><td>0.6746575</td></tr>\n",
       "\t<tr><td>1960</td><td>39</td><td>MLN</td><td>NL</td><td>21</td><td>10</td><td>0.677</td><td>3.50</td><td>40</td><td>33</td><td>⋯</td><td>1110</td><td> 98</td><td>1.225</td><td> 8.5</td><td>0.8</td><td>2.5</td><td>5.2</td><td>2.08</td><td>CYA-2MVP-14  </td><td>0.8458084</td></tr>\n",
       "\t<tr><td>1961</td><td>40</td><td>MLN</td><td>NL</td><td>21</td><td>13</td><td>0.618</td><td>3.02</td><td>38</td><td>34</td><td>⋯</td><td>1064</td><td>122</td><td>1.142</td><td> 8.1</td><td>0.8</td><td>2.2</td><td>3.9</td><td>1.80</td><td>ASCYA-2MVP-10</td><td>1.0450038</td></tr>\n",
       "\t<tr><td>1962</td><td>41</td><td>MLN</td><td>NL</td><td>18</td><td>14</td><td>0.563</td><td>3.04</td><td>34</td><td>34</td><td>⋯</td><td>1088</td><td>125</td><td>1.125</td><td> 8.3</td><td>0.8</td><td>1.8</td><td>3.9</td><td>2.15</td><td>AS           </td><td>0.9438870</td></tr>\n",
       "\t<tr><td>1963</td><td>42</td><td>MLN</td><td>NL</td><td>23</td><td> 7</td><td>0.767</td><td>2.60</td><td>33</td><td>33</td><td>⋯</td><td>1037</td><td>124</td><td>1.117</td><td> 8.4</td><td>0.8</td><td>1.7</td><td>3.5</td><td>2.08</td><td>ASMVP-12     </td><td>0.9336420</td></tr>\n",
       "\t<tr><td>1964</td><td>43</td><td>MLN</td><td>NL</td><td> 6</td><td>13</td><td>0.316</td><td>5.29</td><td>38</td><td>25</td><td>⋯</td><td> 759</td><td> 67</td><td>1.474</td><td>10.6</td><td>1.2</td><td>2.7</td><td>4.0</td><td>1.50</td><td>NA           </td><td>1.7263279</td></tr>\n",
       "\t<tr><td>1965</td><td>44</td><td>TOT</td><td>NL</td><td> 7</td><td>16</td><td>0.304</td><td>4.01</td><td>36</td><td>30</td><td>⋯</td><td> 846</td><td> 89</td><td>1.346</td><td> 9.6</td><td>1.2</td><td>2.5</td><td>4.1</td><td>1.61</td><td>NA           </td><td>1.6531440</td></tr>\n",
       "</tbody>\n",
       "</table>\n"
      ],
      "text/latex": [
       "A tibble: 21 × 35\n",
       "\\begin{tabular}{lllllllllllllllllllll}\n",
       " Year & Age & Tm & Lg & W & L & W.L & ERA & G & GS & ⋯ & BF & ERA+ & WHIP & H/9 & HR/9 & BB/9 & SO/9 & SO/BB & Awards & FIP\\\\\n",
       " <dbl> & <dbl> & <chr> & <chr> & <dbl> & <dbl> & <dbl> & <dbl> & <dbl> & <dbl> & ⋯ & <dbl> & <dbl> & <dbl> & <dbl> & <dbl> & <dbl> & <dbl> & <dbl> & <chr> & <dbl>\\\\\n",
       "\\hline\n",
       "\t 1942 & 21 & BSN & NL &  0 &  0 &    NA & 5.74 &  4 &  2 & ⋯ &   79 &  59 & 2.298 & 14.4 & 0.0 & 6.3 & 4.0 & 0.64 & NA            & 1.2500000\\\\\n",
       "\t 1946 & 25 & BSN & NL &  8 &  5 & 0.615 & 2.94 & 24 & 16 & ⋯ &  514 & 118 & 1.138 &  7.7 & 0.4 & 2.6 & 4.8 & 1.86 & NA            & 0.4153355\\\\\n",
       "\t 1947 & 26 & BSN & NL & 21 & 10 & 0.677 & 2.33 & 40 & 35 & ⋯ & 1174 & 170 & 1.136 &  7.6 & 0.5 & 2.6 & 3.8 & 1.46 & ASMVP-15      & 0.6950207\\\\\n",
       "\t 1948 & 27 & BSN & NL & 15 & 12 & 0.556 & 3.71 & 36 & 35 & ⋯ & 1064 & 105 & 1.222 &  8.3 & 0.7 & 2.7 & 4.0 & 1.48 & MVP-14        & 0.9727626\\\\\n",
       "\t 1949 & 28 & BSN & NL & 21 & 14 & 0.600 & 3.07 & 38 & 38 & ⋯ & 1258 & 124 & 1.221 &  8.4 & 0.8 & 2.6 & 4.5 & 1.76 & ASMVP-7       & 1.0162198\\\\\n",
       "\t 1950 & 29 & BSN & NL & 21 & 17 & 0.553 & 3.16 & 41 & 39 & ⋯ & 1217 & 122 & 1.225 &  7.6 & 0.7 & 3.4 & 5.9 & 1.72 & ASMVP-18      & 0.8088737\\\\\n",
       "\t 1951 & 30 & BSN & NL & 22 & 14 & 0.611 & 2.98 & 39 & 36 & ⋯ & 1289 & 124 & 1.246 &  8.1 & 0.6 & 3.2 & 4.8 & 1.50 & ASMVP-11      & 0.8349452\\\\\n",
       "\t 1952 & 31 & BSN & NL & 14 & 19 & 0.424 & 2.98 & 40 & 35 & ⋯ & 1190 & 122 & 1.159 &  8.2 & 0.6 & 2.3 & 5.7 & 2.51 & ASMVP-23      & 0.3448276\\\\\n",
       "\t 1953 & 32 & MLN & NL & 23 &  7 & 0.767 & 2.10 & 35 & 32 & ⋯ & 1055 & 188 & 1.058 &  7.1 & 0.5 & 2.4 & 5.0 & 2.11 & ASMVP-5       & 0.3619910\\\\\n",
       "\t 1954 & 33 & MLN & NL & 21 & 12 & 0.636 & 3.14 & 39 & 34 & ⋯ & 1175 & 119 & 1.228 &  8.3 & 0.8 & 2.7 & 4.3 & 1.58 & ASMVP-11      & 1.0526316\\\\\n",
       "\t 1955 & 34 & MLN & NL & 17 & 14 & 0.548 & 3.26 & 39 & 32 & ⋯ & 1025 & 115 & 1.278 &  9.1 & 0.9 & 2.4 & 4.0 & 1.69 & NA            & 1.2234910\\\\\n",
       "\t 1956 & 35 & MLN & NL & 20 & 11 & 0.645 & 2.78 & 39 & 35 & ⋯ & 1113 & 125 & 1.070 &  8.0 & 0.8 & 1.7 & 4.1 & 2.46 & ASCYA-3MVP-4  & 0.8004269\\\\\n",
       "\t 1957 & 36 & MLN & NL & 21 & 11 & 0.656 & 2.69 & 39 & 35 & ⋯ & 1111 & 130 & 1.177 &  8.0 & 0.8 & 2.6 & 3.7 & 1.42 & ASCYA-1MVP-5  & 1.1476015\\\\\n",
       "\t 1958 & 37 & MLN & NL & 22 & 11 & 0.667 & 3.07 & 38 & 36 & ⋯ & 1176 & 116 & 1.148 &  8.0 & 0.9 & 2.4 & 4.7 & 1.97 & ASCYA-2MVP-5  & 1.0517241\\\\\n",
       "\t 1959 & 38 & MLN & NL & 21 & 15 & 0.583 & 2.96 & 40 & 36 & ⋯ & 1203 & 119 & 1.205 &  8.7 & 0.6 & 2.2 & 4.4 & 2.04 & ASMVP-19      & 0.6746575\\\\\n",
       "\t 1960 & 39 & MLN & NL & 21 & 10 & 0.677 & 3.50 & 40 & 33 & ⋯ & 1110 &  98 & 1.225 &  8.5 & 0.8 & 2.5 & 5.2 & 2.08 & CYA-2MVP-14   & 0.8458084\\\\\n",
       "\t 1961 & 40 & MLN & NL & 21 & 13 & 0.618 & 3.02 & 38 & 34 & ⋯ & 1064 & 122 & 1.142 &  8.1 & 0.8 & 2.2 & 3.9 & 1.80 & ASCYA-2MVP-10 & 1.0450038\\\\\n",
       "\t 1962 & 41 & MLN & NL & 18 & 14 & 0.563 & 3.04 & 34 & 34 & ⋯ & 1088 & 125 & 1.125 &  8.3 & 0.8 & 1.8 & 3.9 & 2.15 & AS            & 0.9438870\\\\\n",
       "\t 1963 & 42 & MLN & NL & 23 &  7 & 0.767 & 2.60 & 33 & 33 & ⋯ & 1037 & 124 & 1.117 &  8.4 & 0.8 & 1.7 & 3.5 & 2.08 & ASMVP-12      & 0.9336420\\\\\n",
       "\t 1964 & 43 & MLN & NL &  6 & 13 & 0.316 & 5.29 & 38 & 25 & ⋯ &  759 &  67 & 1.474 & 10.6 & 1.2 & 2.7 & 4.0 & 1.50 & NA            & 1.7263279\\\\\n",
       "\t 1965 & 44 & TOT & NL &  7 & 16 & 0.304 & 4.01 & 36 & 30 & ⋯ &  846 &  89 & 1.346 &  9.6 & 1.2 & 2.5 & 4.1 & 1.61 & NA            & 1.6531440\\\\\n",
       "\\end{tabular}\n"
      ],
      "text/markdown": [
       "\n",
       "A tibble: 21 × 35\n",
       "\n",
       "| Year &lt;dbl&gt; | Age &lt;dbl&gt; | Tm &lt;chr&gt; | Lg &lt;chr&gt; | W &lt;dbl&gt; | L &lt;dbl&gt; | W.L &lt;dbl&gt; | ERA &lt;dbl&gt; | G &lt;dbl&gt; | GS &lt;dbl&gt; | ⋯ ⋯ | BF &lt;dbl&gt; | ERA+ &lt;dbl&gt; | WHIP &lt;dbl&gt; | H/9 &lt;dbl&gt; | HR/9 &lt;dbl&gt; | BB/9 &lt;dbl&gt; | SO/9 &lt;dbl&gt; | SO/BB &lt;dbl&gt; | Awards &lt;chr&gt; | FIP &lt;dbl&gt; |\n",
       "|---|---|---|---|---|---|---|---|---|---|---|---|---|---|---|---|---|---|---|---|---|\n",
       "| 1942 | 21 | BSN | NL |  0 |  0 |    NA | 5.74 |  4 |  2 | ⋯ |   79 |  59 | 2.298 | 14.4 | 0.0 | 6.3 | 4.0 | 0.64 | NA            | 1.2500000 |\n",
       "| 1946 | 25 | BSN | NL |  8 |  5 | 0.615 | 2.94 | 24 | 16 | ⋯ |  514 | 118 | 1.138 |  7.7 | 0.4 | 2.6 | 4.8 | 1.86 | NA            | 0.4153355 |\n",
       "| 1947 | 26 | BSN | NL | 21 | 10 | 0.677 | 2.33 | 40 | 35 | ⋯ | 1174 | 170 | 1.136 |  7.6 | 0.5 | 2.6 | 3.8 | 1.46 | ASMVP-15      | 0.6950207 |\n",
       "| 1948 | 27 | BSN | NL | 15 | 12 | 0.556 | 3.71 | 36 | 35 | ⋯ | 1064 | 105 | 1.222 |  8.3 | 0.7 | 2.7 | 4.0 | 1.48 | MVP-14        | 0.9727626 |\n",
       "| 1949 | 28 | BSN | NL | 21 | 14 | 0.600 | 3.07 | 38 | 38 | ⋯ | 1258 | 124 | 1.221 |  8.4 | 0.8 | 2.6 | 4.5 | 1.76 | ASMVP-7       | 1.0162198 |\n",
       "| 1950 | 29 | BSN | NL | 21 | 17 | 0.553 | 3.16 | 41 | 39 | ⋯ | 1217 | 122 | 1.225 |  7.6 | 0.7 | 3.4 | 5.9 | 1.72 | ASMVP-18      | 0.8088737 |\n",
       "| 1951 | 30 | BSN | NL | 22 | 14 | 0.611 | 2.98 | 39 | 36 | ⋯ | 1289 | 124 | 1.246 |  8.1 | 0.6 | 3.2 | 4.8 | 1.50 | ASMVP-11      | 0.8349452 |\n",
       "| 1952 | 31 | BSN | NL | 14 | 19 | 0.424 | 2.98 | 40 | 35 | ⋯ | 1190 | 122 | 1.159 |  8.2 | 0.6 | 2.3 | 5.7 | 2.51 | ASMVP-23      | 0.3448276 |\n",
       "| 1953 | 32 | MLN | NL | 23 |  7 | 0.767 | 2.10 | 35 | 32 | ⋯ | 1055 | 188 | 1.058 |  7.1 | 0.5 | 2.4 | 5.0 | 2.11 | ASMVP-5       | 0.3619910 |\n",
       "| 1954 | 33 | MLN | NL | 21 | 12 | 0.636 | 3.14 | 39 | 34 | ⋯ | 1175 | 119 | 1.228 |  8.3 | 0.8 | 2.7 | 4.3 | 1.58 | ASMVP-11      | 1.0526316 |\n",
       "| 1955 | 34 | MLN | NL | 17 | 14 | 0.548 | 3.26 | 39 | 32 | ⋯ | 1025 | 115 | 1.278 |  9.1 | 0.9 | 2.4 | 4.0 | 1.69 | NA            | 1.2234910 |\n",
       "| 1956 | 35 | MLN | NL | 20 | 11 | 0.645 | 2.78 | 39 | 35 | ⋯ | 1113 | 125 | 1.070 |  8.0 | 0.8 | 1.7 | 4.1 | 2.46 | ASCYA-3MVP-4  | 0.8004269 |\n",
       "| 1957 | 36 | MLN | NL | 21 | 11 | 0.656 | 2.69 | 39 | 35 | ⋯ | 1111 | 130 | 1.177 |  8.0 | 0.8 | 2.6 | 3.7 | 1.42 | ASCYA-1MVP-5  | 1.1476015 |\n",
       "| 1958 | 37 | MLN | NL | 22 | 11 | 0.667 | 3.07 | 38 | 36 | ⋯ | 1176 | 116 | 1.148 |  8.0 | 0.9 | 2.4 | 4.7 | 1.97 | ASCYA-2MVP-5  | 1.0517241 |\n",
       "| 1959 | 38 | MLN | NL | 21 | 15 | 0.583 | 2.96 | 40 | 36 | ⋯ | 1203 | 119 | 1.205 |  8.7 | 0.6 | 2.2 | 4.4 | 2.04 | ASMVP-19      | 0.6746575 |\n",
       "| 1960 | 39 | MLN | NL | 21 | 10 | 0.677 | 3.50 | 40 | 33 | ⋯ | 1110 |  98 | 1.225 |  8.5 | 0.8 | 2.5 | 5.2 | 2.08 | CYA-2MVP-14   | 0.8458084 |\n",
       "| 1961 | 40 | MLN | NL | 21 | 13 | 0.618 | 3.02 | 38 | 34 | ⋯ | 1064 | 122 | 1.142 |  8.1 | 0.8 | 2.2 | 3.9 | 1.80 | ASCYA-2MVP-10 | 1.0450038 |\n",
       "| 1962 | 41 | MLN | NL | 18 | 14 | 0.563 | 3.04 | 34 | 34 | ⋯ | 1088 | 125 | 1.125 |  8.3 | 0.8 | 1.8 | 3.9 | 2.15 | AS            | 0.9438870 |\n",
       "| 1963 | 42 | MLN | NL | 23 |  7 | 0.767 | 2.60 | 33 | 33 | ⋯ | 1037 | 124 | 1.117 |  8.4 | 0.8 | 1.7 | 3.5 | 2.08 | ASMVP-12      | 0.9336420 |\n",
       "| 1964 | 43 | MLN | NL |  6 | 13 | 0.316 | 5.29 | 38 | 25 | ⋯ |  759 |  67 | 1.474 | 10.6 | 1.2 | 2.7 | 4.0 | 1.50 | NA            | 1.7263279 |\n",
       "| 1965 | 44 | TOT | NL |  7 | 16 | 0.304 | 4.01 | 36 | 30 | ⋯ |  846 |  89 | 1.346 |  9.6 | 1.2 | 2.5 | 4.1 | 1.61 | NA            | 1.6531440 |\n",
       "\n"
      ],
      "text/plain": [
       "   Year Age Tm  Lg W  L  W.L   ERA  G  GS ⋯ BF   ERA+ WHIP  H/9  HR/9 BB/9 SO/9\n",
       "1  1942 21  BSN NL  0  0    NA 5.74  4  2 ⋯   79  59  2.298 14.4 0.0  6.3  4.0 \n",
       "2  1946 25  BSN NL  8  5 0.615 2.94 24 16 ⋯  514 118  1.138  7.7 0.4  2.6  4.8 \n",
       "3  1947 26  BSN NL 21 10 0.677 2.33 40 35 ⋯ 1174 170  1.136  7.6 0.5  2.6  3.8 \n",
       "4  1948 27  BSN NL 15 12 0.556 3.71 36 35 ⋯ 1064 105  1.222  8.3 0.7  2.7  4.0 \n",
       "5  1949 28  BSN NL 21 14 0.600 3.07 38 38 ⋯ 1258 124  1.221  8.4 0.8  2.6  4.5 \n",
       "6  1950 29  BSN NL 21 17 0.553 3.16 41 39 ⋯ 1217 122  1.225  7.6 0.7  3.4  5.9 \n",
       "7  1951 30  BSN NL 22 14 0.611 2.98 39 36 ⋯ 1289 124  1.246  8.1 0.6  3.2  4.8 \n",
       "8  1952 31  BSN NL 14 19 0.424 2.98 40 35 ⋯ 1190 122  1.159  8.2 0.6  2.3  5.7 \n",
       "9  1953 32  MLN NL 23  7 0.767 2.10 35 32 ⋯ 1055 188  1.058  7.1 0.5  2.4  5.0 \n",
       "10 1954 33  MLN NL 21 12 0.636 3.14 39 34 ⋯ 1175 119  1.228  8.3 0.8  2.7  4.3 \n",
       "11 1955 34  MLN NL 17 14 0.548 3.26 39 32 ⋯ 1025 115  1.278  9.1 0.9  2.4  4.0 \n",
       "12 1956 35  MLN NL 20 11 0.645 2.78 39 35 ⋯ 1113 125  1.070  8.0 0.8  1.7  4.1 \n",
       "13 1957 36  MLN NL 21 11 0.656 2.69 39 35 ⋯ 1111 130  1.177  8.0 0.8  2.6  3.7 \n",
       "14 1958 37  MLN NL 22 11 0.667 3.07 38 36 ⋯ 1176 116  1.148  8.0 0.9  2.4  4.7 \n",
       "15 1959 38  MLN NL 21 15 0.583 2.96 40 36 ⋯ 1203 119  1.205  8.7 0.6  2.2  4.4 \n",
       "16 1960 39  MLN NL 21 10 0.677 3.50 40 33 ⋯ 1110  98  1.225  8.5 0.8  2.5  5.2 \n",
       "17 1961 40  MLN NL 21 13 0.618 3.02 38 34 ⋯ 1064 122  1.142  8.1 0.8  2.2  3.9 \n",
       "18 1962 41  MLN NL 18 14 0.563 3.04 34 34 ⋯ 1088 125  1.125  8.3 0.8  1.8  3.9 \n",
       "19 1963 42  MLN NL 23  7 0.767 2.60 33 33 ⋯ 1037 124  1.117  8.4 0.8  1.7  3.5 \n",
       "20 1964 43  MLN NL  6 13 0.316 5.29 38 25 ⋯  759  67  1.474 10.6 1.2  2.7  4.0 \n",
       "21 1965 44  TOT NL  7 16 0.304 4.01 36 30 ⋯  846  89  1.346  9.6 1.2  2.5  4.1 \n",
       "   SO/BB Awards        FIP      \n",
       "1  0.64  NA            1.2500000\n",
       "2  1.86  NA            0.4153355\n",
       "3  1.46  ASMVP-15      0.6950207\n",
       "4  1.48  MVP-14        0.9727626\n",
       "5  1.76  ASMVP-7       1.0162198\n",
       "6  1.72  ASMVP-18      0.8088737\n",
       "7  1.50  ASMVP-11      0.8349452\n",
       "8  2.51  ASMVP-23      0.3448276\n",
       "9  2.11  ASMVP-5       0.3619910\n",
       "10 1.58  ASMVP-11      1.0526316\n",
       "11 1.69  NA            1.2234910\n",
       "12 2.46  ASCYA-3MVP-4  0.8004269\n",
       "13 1.42  ASCYA-1MVP-5  1.1476015\n",
       "14 1.97  ASCYA-2MVP-5  1.0517241\n",
       "15 2.04  ASMVP-19      0.6746575\n",
       "16 2.08  CYA-2MVP-14   0.8458084\n",
       "17 1.80  ASCYA-2MVP-10 1.0450038\n",
       "18 2.15  AS            0.9438870\n",
       "19 2.08  ASMVP-12      0.9336420\n",
       "20 1.50  NA            1.7263279\n",
       "21 1.61  NA            1.6531440"
      ]
     },
     "metadata": {},
     "output_type": "display_data"
    },
    {
     "ename": "ERROR",
     "evalue": "Error in arrange(FIP): object 'FIP' not found\n",
     "output_type": "error",
     "traceback": [
      "Error in arrange(FIP): object 'FIP' not found\nTraceback:\n",
      "1. arrange(FIP) %>% select(Year, Age, W, L, ERA, FIP) %>% head()",
      "2. head(.)",
      "3. select(., Year, Age, W, L, ERA, FIP)",
      "4. arrange(FIP)"
     ]
    }
   ],
   "source": [
    "spahn\n",
    "    arrange(FIP) %>%\n",
    "    select(Year, Age, W, L, ERA, FIP) %>%\n",
    "    head()"
   ]
  },
  {
   "cell_type": "code",
   "execution_count": null,
   "id": "6c25d96f",
   "metadata": {},
   "outputs": [],
   "source": []
  }
 ],
 "metadata": {
  "kernelspec": {
   "display_name": "R",
   "language": "R",
   "name": "ir"
  },
  "language_info": {
   "codemirror_mode": "r",
   "file_extension": ".r",
   "mimetype": "text/x-r-source",
   "name": "R",
   "pygments_lexer": "r",
   "version": "4.2.3"
  }
 },
 "nbformat": 4,
 "nbformat_minor": 5
}
